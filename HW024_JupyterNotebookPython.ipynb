{
 "cells": [
  {
   "cell_type": "code",
   "execution_count": 1,
   "id": "9baa6011",
   "metadata": {},
   "outputs": [],
   "source": [
    "import numpy as np"
   ]
  },
  {
   "cell_type": "code",
   "execution_count": 2,
   "id": "c47af7a5",
   "metadata": {},
   "outputs": [
    {
     "data": {
      "text/plain": [
       "array([89, 96, 14, 25, 94, 55, 87, 34, 62, 57, 97, 55, 26, 42, 97, 54, 77,\n",
       "       16, 11, 31, 19, 10, 65, 20])"
      ]
     },
     "execution_count": 2,
     "metadata": {},
     "output_type": "execute_result"
    }
   ],
   "source": [
    "array1 = np.random.randint(10, 99, size=24)\n",
    "array1"
   ]
  },
  {
   "cell_type": "code",
   "execution_count": 3,
   "id": "a82275f1",
   "metadata": {},
   "outputs": [
    {
     "data": {
      "text/plain": [
       "array([[[89, 96, 14, 25],\n",
       "        [94, 55, 87, 34],\n",
       "        [62, 57, 97, 55]],\n",
       "\n",
       "       [[26, 42, 97, 54],\n",
       "        [77, 16, 11, 31],\n",
       "        [19, 10, 65, 20]]])"
      ]
     },
     "execution_count": 3,
     "metadata": {},
     "output_type": "execute_result"
    }
   ],
   "source": [
    "array1 = array1.reshape(2, 3, 4)\n",
    "array1"
   ]
  },
  {
   "cell_type": "code",
   "execution_count": 4,
   "id": "b3297908",
   "metadata": {},
   "outputs": [
    {
     "data": {
      "text/plain": [
       "dtype('int32')"
      ]
     },
     "execution_count": 4,
     "metadata": {},
     "output_type": "execute_result"
    }
   ],
   "source": [
    "array1.dtype"
   ]
  },
  {
   "cell_type": "code",
   "execution_count": 5,
   "id": "55b306c6",
   "metadata": {},
   "outputs": [
    {
     "data": {
      "text/plain": [
       "3"
      ]
     },
     "execution_count": 5,
     "metadata": {},
     "output_type": "execute_result"
    }
   ],
   "source": [
    "array1.ndim"
   ]
  },
  {
   "cell_type": "code",
   "execution_count": 6,
   "id": "f71af44e",
   "metadata": {},
   "outputs": [
    {
     "data": {
      "text/plain": [
       "array([[10, 14, 18, 22],\n",
       "       [26, 30, 34, 38],\n",
       "       [42, 46, 50, 54],\n",
       "       [58, 62, 66, 70]])"
      ]
     },
     "execution_count": 6,
     "metadata": {},
     "output_type": "execute_result"
    }
   ],
   "source": [
    "array2 = np.arange(10, 74, 4).reshape(4, -1)\n",
    "array2"
   ]
  },
  {
   "cell_type": "code",
   "execution_count": 7,
   "id": "2f6eda43",
   "metadata": {},
   "outputs": [
    {
     "data": {
      "text/plain": [
       "array([[17, 18, 19, 21],\n",
       "       [22, 24, 25, 27],\n",
       "       [28, 30, 31, 33],\n",
       "       [34, 36, 37, 39]])"
      ]
     },
     "execution_count": 7,
     "metadata": {},
     "output_type": "execute_result"
    }
   ],
   "source": [
    "array3 = np.linspace(17, 39, num=16, dtype=int).reshape(4, 4)\n",
    "array3"
   ]
  },
  {
   "cell_type": "code",
   "execution_count": 8,
   "id": "6976e293",
   "metadata": {},
   "outputs": [
    {
     "data": {
      "text/plain": [
       "array([[10, 14, 18, 22, 46, 48, 50, 54],\n",
       "       [26, 30, 34, 38, 56, 60, 62, 66],\n",
       "       [42, 46, 50, 54, 68, 72, 74, 78],\n",
       "       [58, 62, 66, 70, 80, 84, 86, 90]])"
      ]
     },
     "execution_count": 8,
     "metadata": {},
     "output_type": "execute_result"
    }
   ],
   "source": [
    "import random\n",
    "array_con = np.concatenate((array2, array3 * 2 + random.randint(10, 18)), axis=1)\n",
    "array_con"
   ]
  },
  {
   "cell_type": "code",
   "execution_count": 9,
   "id": "bdb20b85",
   "metadata": {},
   "outputs": [
    {
     "data": {
      "text/plain": [
       "(4, 8)"
      ]
     },
     "execution_count": 9,
     "metadata": {},
     "output_type": "execute_result"
    }
   ],
   "source": [
    "array_con.shape"
   ]
  },
  {
   "cell_type": "code",
   "execution_count": 10,
   "id": "e4377b6c",
   "metadata": {},
   "outputs": [
    {
     "data": {
      "text/plain": [
       "32"
      ]
     },
     "execution_count": 10,
     "metadata": {},
     "output_type": "execute_result"
    }
   ],
   "source": [
    "array_con.size"
   ]
  },
  {
   "cell_type": "code",
   "execution_count": 11,
   "id": "baf05191",
   "metadata": {},
   "outputs": [
    {
     "data": {
      "text/plain": [
       "array([ 3,  4,  1, -8])"
      ]
     },
     "execution_count": 11,
     "metadata": {},
     "output_type": "execute_result"
    }
   ],
   "source": [
    "array4 = np.array([3, 4, 1, -8])\n",
    "array4"
   ]
  },
  {
   "cell_type": "code",
   "execution_count": 12,
   "id": "95a0cb89",
   "metadata": {},
   "outputs": [
    {
     "data": {
      "text/plain": [
       "array([[ 27,  32,  37,  43],\n",
       "       [ 48,  54,  59,  65],\n",
       "       [ 70,  76,  81,  87],\n",
       "       [ 92,  98, 103, 109]])"
      ]
     },
     "execution_count": 12,
     "metadata": {},
     "output_type": "execute_result"
    }
   ],
   "source": [
    "array2 + array3"
   ]
  },
  {
   "cell_type": "code",
   "execution_count": 13,
   "id": "aff5f567",
   "metadata": {},
   "outputs": [
    {
     "data": {
      "text/plain": [
       "array([[[ 92, 100,  15,  17],\n",
       "        [ 97,  59,  88,  26],\n",
       "        [ 65,  61,  98,  47]],\n",
       "\n",
       "       [[ 29,  46,  98,  46],\n",
       "        [ 80,  20,  12,  23],\n",
       "        [ 22,  14,  66,  12]]])"
      ]
     },
     "execution_count": 13,
     "metadata": {},
     "output_type": "execute_result"
    }
   ],
   "source": [
    "array1 + array4"
   ]
  },
  {
   "cell_type": "code",
   "execution_count": 14,
   "id": "f0c11edc",
   "metadata": {},
   "outputs": [
    {
     "data": {
      "text/plain": [
       "array([[ 170,  252,  342,  462],\n",
       "       [ 572,  720,  850, 1026],\n",
       "       [1176, 1380, 1550, 1782],\n",
       "       [1972, 2232, 2442, 2730]])"
      ]
     },
     "execution_count": 14,
     "metadata": {},
     "output_type": "execute_result"
    }
   ],
   "source": [
    "array2 * array3"
   ]
  },
  {
   "cell_type": "code",
   "execution_count": 15,
   "id": "09ef1995",
   "metadata": {},
   "outputs": [
    {
     "data": {
      "text/plain": [
       "array([[  30,   56,   18, -176],\n",
       "       [  78,  120,   34, -304],\n",
       "       [ 126,  184,   50, -432],\n",
       "       [ 174,  248,   66, -560]])"
      ]
     },
     "execution_count": 15,
     "metadata": {},
     "output_type": "execute_result"
    }
   ],
   "source": [
    "array2 * array4"
   ]
  },
  {
   "cell_type": "code",
   "execution_count": 16,
   "id": "7d3ca9c3",
   "metadata": {},
   "outputs": [
    {
     "data": {
      "text/plain": [
       "array([[  41,   58,    1, -190],\n",
       "       [  40,   66,   -9, -254],\n",
       "       [  42,   74,  -19, -318],\n",
       "       [  44,   82,  -29, -382]])"
      ]
     },
     "execution_count": 16,
     "metadata": {},
     "output_type": "execute_result"
    }
   ],
   "source": [
    "array3 * array4 - array2"
   ]
  },
  {
   "cell_type": "code",
   "execution_count": 17,
   "id": "27387ff7",
   "metadata": {},
   "outputs": [
    {
     "data": {
      "text/plain": [
       "array([[[29.66666667, 24.        , 14.        , -3.125     ],\n",
       "        [31.33333333, 13.75      , 87.        , -4.25      ],\n",
       "        [20.66666667, 14.25      , 97.        , -6.875     ]],\n",
       "\n",
       "       [[ 8.66666667, 10.5       , 97.        , -6.75      ],\n",
       "        [25.66666667,  4.        , 11.        , -3.875     ],\n",
       "        [ 6.33333333,  2.5       , 65.        , -2.5       ]]])"
      ]
     },
     "execution_count": 17,
     "metadata": {},
     "output_type": "execute_result"
    }
   ],
   "source": [
    "array1 / array4"
   ]
  },
  {
   "cell_type": "code",
   "execution_count": 18,
   "id": "d41aa9d7",
   "metadata": {},
   "outputs": [
    {
     "data": {
      "text/plain": [
       "array([[ 10,   8,  38,  -6],\n",
       "       [ 14,  12,  50,  -8],\n",
       "       [ 18,  14,  62, -10],\n",
       "       [ 22,  18,  74, -10]], dtype=int32)"
      ]
     },
     "execution_count": 18,
     "metadata": {},
     "output_type": "execute_result"
    }
   ],
   "source": [
    "array3 // array4 * 2"
   ]
  },
  {
   "cell_type": "code",
   "execution_count": 19,
   "id": "a78fe98c",
   "metadata": {},
   "outputs": [
    {
     "data": {
      "text/plain": [
       "array([[ 90, 136,  38],\n",
       "       [138, 200,  54],\n",
       "       [186, 264,  70]])"
      ]
     },
     "execution_count": 19,
     "metadata": {},
     "output_type": "execute_result"
    }
   ],
   "source": [
    "array2[1:4, 1:] * array4[:3]"
   ]
  },
  {
   "cell_type": "code",
   "execution_count": 20,
   "id": "32982837",
   "metadata": {},
   "outputs": [
    {
     "data": {
      "text/plain": [
       "array([[[89, 96, 14, 25],\n",
       "        [94, 55, 87, 34],\n",
       "        [62, 57, 97, 55]],\n",
       "\n",
       "       [[26, 42, 97, 54],\n",
       "        [77, 16, 11, 31],\n",
       "        [19, 10, 65, 20]]])"
      ]
     },
     "execution_count": 20,
     "metadata": {},
     "output_type": "execute_result"
    }
   ],
   "source": [
    "array1"
   ]
  },
  {
   "cell_type": "code",
   "execution_count": 21,
   "id": "81ea6fef",
   "metadata": {},
   "outputs": [
    {
     "data": {
      "text/plain": [
       "24"
      ]
     },
     "execution_count": 21,
     "metadata": {},
     "output_type": "execute_result"
    }
   ],
   "source": [
    "array1.size"
   ]
  },
  {
   "cell_type": "code",
   "execution_count": 22,
   "id": "16d68b1b",
   "metadata": {},
   "outputs": [
    {
     "data": {
      "text/plain": [
       "97"
      ]
     },
     "execution_count": 22,
     "metadata": {},
     "output_type": "execute_result"
    }
   ],
   "source": [
    "array1.max()"
   ]
  },
  {
   "cell_type": "code",
   "execution_count": 23,
   "id": "10eb0dfe",
   "metadata": {},
   "outputs": [
    {
     "data": {
      "text/plain": [
       "51.375"
      ]
     },
     "execution_count": 23,
     "metadata": {},
     "output_type": "execute_result"
    }
   ],
   "source": [
    "array1.mean()"
   ]
  },
  {
   "cell_type": "code",
   "execution_count": 24,
   "id": "99b8b14f",
   "metadata": {},
   "outputs": [
    {
     "data": {
      "text/plain": [
       "array([[89, 96, 97, 54],\n",
       "       [94, 55, 87, 34],\n",
       "       [62, 57, 97, 55]])"
      ]
     },
     "execution_count": 24,
     "metadata": {},
     "output_type": "execute_result"
    }
   ],
   "source": [
    "array1.max(axis=0) "
   ]
  },
  {
   "cell_type": "code",
   "execution_count": 25,
   "id": "3f7591fd",
   "metadata": {},
   "outputs": [
    {
     "data": {
      "text/plain": [
       "array([[94, 96, 97, 55],\n",
       "       [77, 42, 97, 54]])"
      ]
     },
     "execution_count": 25,
     "metadata": {},
     "output_type": "execute_result"
    }
   ],
   "source": [
    "array1.max(axis=1) "
   ]
  },
  {
   "cell_type": "code",
   "execution_count": 26,
   "id": "2ce28b47",
   "metadata": {},
   "outputs": [
    {
     "data": {
      "text/plain": [
       "array([[96, 94, 97],\n",
       "       [97, 77, 65]])"
      ]
     },
     "execution_count": 26,
     "metadata": {},
     "output_type": "execute_result"
    }
   ],
   "source": [
    "array1.max(axis=2) "
   ]
  },
  {
   "cell_type": "code",
   "execution_count": 27,
   "id": "f43bdf55",
   "metadata": {},
   "outputs": [
    {
     "data": {
      "text/plain": [
       "array([[89, 96, 14, 25, 94, 55],\n",
       "       [87, 34, 62, 57, 97, 55],\n",
       "       [26, 42, 97, 54, 77, 16],\n",
       "       [11, 31, 19, 10, 65, 20]])"
      ]
     },
     "execution_count": 27,
     "metadata": {},
     "output_type": "execute_result"
    }
   ],
   "source": [
    "array1 = array1.reshape(4, -1)\n",
    "array1"
   ]
  },
  {
   "cell_type": "code",
   "execution_count": 28,
   "id": "12959ff6",
   "metadata": {},
   "outputs": [
    {
     "data": {
      "text/plain": [
       "array([89, 96, 97, 57, 97, 55])"
      ]
     },
     "execution_count": 28,
     "metadata": {},
     "output_type": "execute_result"
    }
   ],
   "source": [
    "array1.max(axis=0) # в столбцах"
   ]
  },
  {
   "cell_type": "code",
   "execution_count": 29,
   "id": "a790a3e8",
   "metadata": {},
   "outputs": [
    {
     "data": {
      "text/plain": [
       "array([96, 97, 97, 65])"
      ]
     },
     "execution_count": 29,
     "metadata": {},
     "output_type": "execute_result"
    }
   ],
   "source": [
    "array1.max(axis=1) # в строках"
   ]
  },
  {
   "cell_type": "code",
   "execution_count": 30,
   "id": "0f7b6ab2",
   "metadata": {},
   "outputs": [
    {
     "data": {
      "text/plain": [
       "32.9375"
      ]
     },
     "execution_count": 30,
     "metadata": {},
     "output_type": "execute_result"
    }
   ],
   "source": [
    "(array3 * array4 + array2).mean()"
   ]
  },
  {
   "cell_type": "code",
   "execution_count": 31,
   "id": "abbd4e25",
   "metadata": {},
   "outputs": [
    {
     "data": {
      "text/plain": [
       "array([ 5, 45,  9, -3])"
      ]
     },
     "execution_count": 31,
     "metadata": {},
     "output_type": "execute_result"
    }
   ],
   "source": [
    "(array1 * 2 - 23).min(axis=1)"
   ]
  },
  {
   "cell_type": "code",
   "execution_count": 32,
   "id": "b7f6c871",
   "metadata": {},
   "outputs": [
    {
     "data": {
      "text/plain": [
       "array([213, 203, 192, 146, 333, 146])"
      ]
     },
     "execution_count": 32,
     "metadata": {},
     "output_type": "execute_result"
    }
   ],
   "source": [
    "array1.sum(axis=0)"
   ]
  },
  {
   "cell_type": "code",
   "execution_count": 33,
   "id": "591510bb",
   "metadata": {},
   "outputs": [
    {
     "data": {
      "text/plain": [
       "16"
      ]
     },
     "execution_count": 33,
     "metadata": {},
     "output_type": "execute_result"
    }
   ],
   "source": [
    "array1[2].min()"
   ]
  },
  {
   "cell_type": "code",
   "execution_count": 34,
   "id": "c7ceab6a",
   "metadata": {},
   "outputs": [
    {
     "name": "stdout",
     "output_type": "stream",
     "text": [
      "max (array1, array2) = 97\n"
     ]
    }
   ],
   "source": [
    "if array1.max() > array2.max():\n",
    "    print(f'max (array1, array2) = {array1.max()}')\n",
    "else:\n",
    "    print(f'max (array1, array2) = {array2.max()}')"
   ]
  },
  {
   "cell_type": "code",
   "execution_count": 35,
   "id": "9275beb8",
   "metadata": {},
   "outputs": [
    {
     "name": "stdout",
     "output_type": "stream",
     "text": [
      "max (array1, array_con) = 97\n"
     ]
    }
   ],
   "source": [
    "print('max (array1, array_con) = ', end='')\n",
    "if array1.max() > array_con.max():\n",
    "    print(array1.max())\n",
    "else:\n",
    "    print(array_con.max())"
   ]
  },
  {
   "cell_type": "code",
   "execution_count": 36,
   "id": "5630734a",
   "metadata": {
    "scrolled": true
   },
   "outputs": [
    {
     "data": {
      "text/plain": [
       "array([[89, 96, 14, 25, 94, 55, 10, 14, 18, 22],\n",
       "       [87, 34, 62, 57, 97, 55, 26, 30, 34, 38],\n",
       "       [26, 42, 97, 54, 77, 16, 42, 46, 50, 54],\n",
       "       [11, 31, 19, 10, 65, 20, 58, 62, 66, 70]])"
      ]
     },
     "execution_count": 36,
     "metadata": {},
     "output_type": "execute_result"
    }
   ],
   "source": [
    "con2 = np.concatenate((array1, array2), axis=1)\n",
    "con2"
   ]
  },
  {
   "cell_type": "code",
   "execution_count": 37,
   "id": "66f52e30",
   "metadata": {},
   "outputs": [
    {
     "data": {
      "text/plain": [
       "46"
      ]
     },
     "execution_count": 37,
     "metadata": {},
     "output_type": "execute_result"
    }
   ],
   "source": [
    "con2.mean(dtype=int)"
   ]
  },
  {
   "cell_type": "code",
   "execution_count": 38,
   "id": "ced97f39",
   "metadata": {},
   "outputs": [
    {
     "data": {
      "text/plain": [
       "46.825"
      ]
     },
     "execution_count": 38,
     "metadata": {},
     "output_type": "execute_result"
    }
   ],
   "source": [
    "round(con2.mean(), 3)"
   ]
  },
  {
   "cell_type": "code",
   "execution_count": null,
   "id": "bd9555dc",
   "metadata": {},
   "outputs": [],
   "source": []
  }
 ],
 "metadata": {
  "kernelspec": {
   "display_name": "Python 3 (ipykernel)",
   "language": "python",
   "name": "python3"
  },
  "language_info": {
   "codemirror_mode": {
    "name": "ipython",
    "version": 3
   },
   "file_extension": ".py",
   "mimetype": "text/x-python",
   "name": "python",
   "nbconvert_exporter": "python",
   "pygments_lexer": "ipython3",
   "version": "3.9.13"
  }
 },
 "nbformat": 4,
 "nbformat_minor": 5
}
